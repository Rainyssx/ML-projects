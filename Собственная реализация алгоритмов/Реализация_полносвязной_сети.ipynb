{
  "cells": [
    {
      "cell_type": "code",
      "execution_count": null,
      "metadata": {
        "id": "1yn5eSlnf4Oe"
      },
      "outputs": [],
      "source": [
        "import math\n",
        "import random\n",
        "import numpy as np\n",
        "\n",
        "\n",
        "class loader:\n",
        "    def __init__(self,\n",
        "                 dimentions = 2,\n",
        "                 trainPercent = 85.0):\n",
        "        self.__train_procent = trainPercent\n",
        "        self.__train, self.__test = self.__loadData(dimentions)\n",
        "\n",
        "\n",
        "    def __loadData(self, dim):\n",
        "        data = self.__get2DData() if dim == 2 else self.__get3DData()\n",
        "        ln = len(data)\n",
        "        lnts = int(ln * (1 - self.__train_procent / 100))\n",
        "        lntr = ln - lnts\n",
        "\n",
        "        random.shuffle(data)\n",
        "        return sorted(data[:lntr]), sorted(data[lntr:])\n",
        "\n",
        "\n",
        "    def __get2DData(self):\n",
        "        return [\n",
        "            [\n",
        "                [i / 10],\n",
        "                [math.cos(i / 10) + random.random() * 0.2 - 0.1]\n",
        "                #[((-i / 10)**3 / 3 + 6*(i/10) - 5) + random.random() * 0.2 - 0.1]\n",
        "            ]\n",
        "            for i in range(-60, 61)\n",
        "        ]\n",
        "\n",
        "\n",
        "    def __get3DData(self):\n",
        "        return [[i]]\n",
        "\n",
        "\n",
        "    def getTrainInp(self):\n",
        "        return np.array([i[0] for i in self.__train])\n",
        "\n",
        "\n",
        "    def getTrainOut(self):\n",
        "        return np.array([i[1] for i in self.__train])\n",
        "\n",
        "\n",
        "    def getTestInp(self):\n",
        "        return np.array([i[0] for i in self.__test])\n",
        "\n",
        "    def getTestOut(self):\n",
        "        return np.array([i[1] for i in self.__test])"
      ]
    },
    {
      "cell_type": "code",
      "execution_count": null,
      "metadata": {
        "id": "KPT5UyuqgFyS"
      },
      "outputs": [],
      "source": [
        "\n",
        "class MLP:\n",
        "    __a_parameter_act_functionct_function = 1\n",
        "    __b_parameter_act_function = 1\n",
        "\n",
        "    def __init__(self,\n",
        "                 ld: loader,\n",
        "                 neuronNum: tuple = (2)\n",
        "                 ):\n",
        "        # Количество слоев\n",
        "        self.__layers = 2 + len(neuronNum)\n",
        "        # Количество нейронов на каждом слое\n",
        "        input = ld.getTrainInp()\n",
        "        out = ld.getTrainOut()\n",
        "        nN = [len(input[0]), len(out[0])]\n",
        "        self.__nN = np.insert(nN, 1, neuronNum)\n",
        "        self.__input = np.array(input)\n",
        "        self.__output = np.array(out)\n",
        "        self.__test_input = np.array(ld.getTestInp())\n",
        "        self.__test_output = np.array(ld.getTestOut())\n",
        "        self.__w = [np.random.rand(\n",
        "            self.__nN[i] + 1,\n",
        "            self.__nN[i + 1] +\n",
        "            (0 if i == self.__layers - 2 else 1)\n",
        "        ) for i in range(self.__layers - 1)]\n",
        "\n",
        "\n",
        "    def non_Linear_activation(self, x):\n",
        "        return np.array(self.__a_parameter_act_function * np.tanh(self.__b_parameter_act_function * x))\n",
        "\n",
        "\n",
        "    def non_Linear_activationDer(self, x):\n",
        "        return np.array(self.__b_parameter_act_function / self.__a_parameter_act_function * \\\n",
        "                        (self.__a_parameter_act_function - self.non_Linear_activation(x)) * \\\n",
        "                        (self.__a_parameter_act_function + self.non_Linear_activation(x)))\n",
        "\n",
        "\n",
        "    def LinearActivationF(self, x):\n",
        "        return np.array(x)\n",
        "\n",
        "\n",
        "    def LinearActivationFDer(self, x):\n",
        "        return np.array(1)\n",
        "\n",
        "    def fit(self,\n",
        "              eta = 0.005,\n",
        "              epoches=1000,\n",
        "              epsilon=0.0001):\n",
        "        full_error_train = []\n",
        "        full_error_test = []\n",
        "        # Индуцированное локальное поле или просто сумматор\n",
        "        v = np.array([None for i in range(self.__layers)])\n",
        "        # Слои (выходы из слоёв)\n",
        "        l = np.array([None for i in range(self.__layers)])\n",
        "        # Ошибки\n",
        "        l_err = np.array([None for i in range(1, self.__layers)])\n",
        "        # deltas\n",
        "        l_delta = np.array([None for i in range(1, self.__layers)])\n",
        "\n",
        "        # Переобозначение входов и выходов для простоты записи\n",
        "        input = self.__input\n",
        "        output = self.__output\n",
        "        # Счетчик эпох\n",
        "        count_epoch = 0\n",
        "        # Начало процесса обучения\n",
        "        while count_epoch < 2 or count_epoch < epoches and (abs(full_error_test[count_epoch-1] - full_error_test[count_epoch-2]) > epsilon**(3/2) or full_error_test[count_epoch-1] > epsilon):\n",
        "            count_epoch += 1\n",
        "            # Проход по обучающей выборке\n",
        "            for i in range(len(input)):\n",
        "                l[0] = np.array([np.insert(input[i], 0, 1)])\n",
        "                # Прямой проход по сети\n",
        "                for j in range(1, self.__layers - 1):\n",
        "                    # индуцированное локальное поле\n",
        "                    v[j] = np.dot(l[j - 1], self.__w[j - 1])\n",
        "                    # проход по скрытым слоям\n",
        "                    l[j] = self.non_Linear_activation(v[j])\n",
        "                # вычисление индуцированного локального поля на выходном слое\n",
        "                v[self.__layers - 1] = np.dot(l[self.__layers - 2], self.__w[self.__layers - 2])\n",
        "                # вычисление значения на выходном слое\n",
        "                l[self.__layers - 1] = self.LinearActivationF(\n",
        "                    v[self.__layers - 1]\n",
        "                )\n",
        "                # Обратный проход по сети\n",
        "                l_err[self.__layers - 2] = output[i] - l[self.__layers - 1]\n",
        "                # Нахождение \\delta_k\n",
        "                l_delta[self.__layers - 2] = \\\n",
        "                    np.array([l_err[self.__layers - 2][0] * (\n",
        "                        self.LinearActivationFDer(v[self.__layers - 1])\n",
        "                    )])\n",
        "                # Нахождение \\delta_j\n",
        "                for j in range(self.__layers - 2, 0, -1):\n",
        "                    l_err[j - 1] = np.dot(l_delta[j], self.__w[j].T)\n",
        "                    l_delta[j - 1] = l_err[j - 1] * self.non_Linear_activationDer(v[j])\n",
        "                # Определение изменения весовых коэффициентов \\Delta w\n",
        "                deltaW = [eta * np.dot(l_delta[j].T, l[j])\n",
        "                          for j in range(self.__layers - 1)]\n",
        "                for j in range(0, self.__layers - 1):\n",
        "                    self.__w[j] += deltaW[j].T\n",
        "            #Ошибка на тестовом множестве\n",
        "            outputs = self.predict(self.__test_input)\n",
        "            r_outputs = np.array([self.__test_output[i][0] for i in range(len(self.__test_output))])\n",
        "            err_n = np.sum(0.5 * (r_outputs - outputs) ** 2) / len(outputs)\n",
        "            full_error_test.append(err_n)\n",
        "            #Ошибка на обучающем множестве\n",
        "            outputr = self.predict(self.__input)\n",
        "            r_outputr = np.array([self.__output[i][0] for i in range(len(self.__output))])\n",
        "            tr_err_n = np.sum(0.5 * (r_outputr - outputr) ** 2) / len(outputr)\n",
        "            full_error_train.append(tr_err_n)\n",
        "            print(\"Epoche\", count_epoch, \"Train error=\", tr_err_n, \"Test error=\", err_n)\n",
        "        return full_error_train, full_error_test\n",
        "\n",
        "    #Вычисление выходов по входам обученной сетью\n",
        "    def predict(self, inputs):\n",
        "        outs = np.array([])\n",
        "        # Для каждого входного значения\n",
        "        for i in range(len(inputs)):\n",
        "            input = np.array([np.insert(inputs[i], 0, 1)])\n",
        "            # Прямой проход по сети (все слои, кроме последнего)\n",
        "            for lr in range(self.__layers - 2):\n",
        "                input = self.non_Linear_activation(np.dot(input, self.__w[lr]))\n",
        "            # Получение результата на последнем слое\n",
        "            # и добавлени его в массив выходов\n",
        "            outs = np.append(outs,\n",
        "                             self.LinearActivationF(np.dot(input, self.__w[self.__layers-2]))\n",
        "                            )\n",
        "        return outs"
      ]
    },
    {
      "cell_type": "code",
      "execution_count": null,
      "metadata": {
        "colab": {
          "background_save": true,
          "base_uri": "https://localhost:8080/",
          "height": 314
        },
        "id": "CO8m24UOgkdm",
        "outputId": "2249c1e9-2351-47b2-c734-338dcfc4eb69"
      },
      "outputs": [
        {
          "ename": "NameError",
          "evalue": "name 'getTrainInp' is not defined",
          "output_type": "error",
          "traceback": [
            "\u001b[0;31m---------------------------------------------------------------------------\u001b[0m",
            "\u001b[0;31mNameError\u001b[0m                                 Traceback (most recent call last)",
            "\u001b[0;32m<ipython-input-8-2805396a8a00>\u001b[0m in \u001b[0;36m<cell line: 29>\u001b[0;34m()\u001b[0m\n\u001b[1;32m     27\u001b[0m \u001b[0;34m\u001b[0m\u001b[0m\n\u001b[1;32m     28\u001b[0m \u001b[0;34m\u001b[0m\u001b[0m\n\u001b[0;32m---> 29\u001b[0;31m \u001b[0mplot2D\u001b[0m\u001b[0;34m(\u001b[0m\u001b[0;34m)\u001b[0m\u001b[0;34m\u001b[0m\u001b[0;34m\u001b[0m\u001b[0m\n\u001b[0m",
            "\u001b[0;32m<ipython-input-8-2805396a8a00>\u001b[0m in \u001b[0;36mplot2D\u001b[0;34m()\u001b[0m\n\u001b[1;32m      3\u001b[0m \u001b[0;32mdef\u001b[0m \u001b[0mplot2D\u001b[0m\u001b[0;34m(\u001b[0m\u001b[0;34m)\u001b[0m\u001b[0;34m:\u001b[0m\u001b[0;34m\u001b[0m\u001b[0;34m\u001b[0m\u001b[0m\n\u001b[1;32m      4\u001b[0m     \u001b[0mld\u001b[0m \u001b[0;34m=\u001b[0m \u001b[0mloader\u001b[0m\u001b[0;34m(\u001b[0m\u001b[0mtrainPercent\u001b[0m\u001b[0;34m=\u001b[0m\u001b[0;36m85\u001b[0m\u001b[0;34m)\u001b[0m\u001b[0;34m\u001b[0m\u001b[0;34m\u001b[0m\u001b[0m\n\u001b[0;32m----> 5\u001b[0;31m     \u001b[0mtri\u001b[0m \u001b[0;34m=\u001b[0m \u001b[0mgetTrainInp\u001b[0m\u001b[0;34m(\u001b[0m\u001b[0;34m)\u001b[0m\u001b[0;34m\u001b[0m\u001b[0;34m\u001b[0m\u001b[0m\n\u001b[0m\u001b[1;32m      6\u001b[0m     \u001b[0mtro\u001b[0m \u001b[0;34m=\u001b[0m \u001b[0mgetTrainOut\u001b[0m\u001b[0;34m(\u001b[0m\u001b[0;34m)\u001b[0m\u001b[0;34m\u001b[0m\u001b[0;34m\u001b[0m\u001b[0m\n\u001b[1;32m      7\u001b[0m     \u001b[0mtsi\u001b[0m \u001b[0;34m=\u001b[0m \u001b[0mgetTestInp\u001b[0m\u001b[0;34m(\u001b[0m\u001b[0;34m)\u001b[0m\u001b[0;34m\u001b[0m\u001b[0;34m\u001b[0m\u001b[0m\n",
            "\u001b[0;31mNameError\u001b[0m: name 'getTrainInp' is not defined"
          ]
        }
      ],
      "source": [
        "\n",
        "from matplotlib import pyplot as plt\n",
        "\n",
        "def plot2D():\n",
        "    ld = loader(trainPercent=85)\n",
        "    tri = getTrainInp()\n",
        "    tro = getTrainOut()\n",
        "    tsi = getTestInp()\n",
        "    tso = getTestOut()\n",
        "\n",
        "    mlp = MLP(ld, (12, 30))\n",
        "    e_tr, e_ts = mlp.fit(epsilon= 25e-4)\n",
        "    e_ts_x = [i for i in range(1, len(e_ts) + 1)]\n",
        "    f1 = plt.figure(1)\n",
        "    fa1 = f1.add_subplot(1, 1, 1)\n",
        "    out = mlp.predict(tri)\n",
        "    fa1.plot(tri, out, \"bo\")\n",
        "    fa1.plot(tri, tro, \"r+\")\n",
        "\n",
        "    out = mlp.predict(tsi)\n",
        "    fa1.plot(tsi, out, \"gv\")\n",
        "    fa1.plot(tsi, tso, \"y+\")\n",
        "\n",
        "    f2 = plt.figure(2)\n",
        "    fa2 = f2.add_subplot(1, 1, 1)\n",
        "    fa2.plot(e_ts_x, e_ts, \"b-\")\n",
        "    plt.show()\n",
        "\n",
        "\n",
        "plot2D()"
      ]
    },
    {
      "cell_type": "code",
      "execution_count": null,
      "metadata": {
        "id": "UjuvH5YaYibv"
      },
      "outputs": [],
      "source": [
        "x = np.linspace(0,1,50)\n",
        "y = np.linspace(0,1,50)\n",
        "z = np.cos(x) + np.sin(y)"
      ]
    },
    {
      "cell_type": "code",
      "execution_count": null,
      "metadata": {
        "id": "mket1OWDZHO9"
      },
      "outputs": [],
      "source": [
        "nN  = (2,2,2,2,2)"
      ]
    },
    {
      "cell_type": "code",
      "execution_count": null,
      "metadata": {
        "colab": {
          "base_uri": "https://localhost:8080/"
        },
        "id": "wij3gPHTZqMc",
        "outputId": "b4db4a4f-ac3e-44a0-8e13-fd113485c7c8"
      },
      "outputs": [
        {
          "output_type": "execute_result",
          "data": {
            "text/plain": [
              "[array([[0.25729292, 0.78352447, 0.25475914],\n",
              "        [0.87502656, 0.28784482, 0.09202713],\n",
              "        [0.37740197, 0.13506615, 0.88208798]]),\n",
              " array([[0.9701454 , 0.22870069, 0.7283831 ],\n",
              "        [0.26224461, 0.19690562, 0.33858703],\n",
              "        [0.37389501, 0.71063889, 0.46044928]]),\n",
              " array([[0.58539984, 0.36791218, 0.0236381 ],\n",
              "        [0.59236371, 0.11288546, 0.22082592],\n",
              "        [0.59885126, 0.2383817 , 0.05721669]]),\n",
              " array([[0.34761408, 0.31810777, 0.92414625],\n",
              "        [0.97902784, 0.97475199, 0.79004048],\n",
              "        [0.29875395, 0.99434187, 0.6830058 ]])]"
            ]
          },
          "metadata": {},
          "execution_count": 12
        }
      ],
      "source": [
        "[np.random.rand( nN[i] + 1, nN[i + 1] + (0 if i == 7 - 2 else 1) ) for i in range(4)]\n"
      ]
    },
    {
      "cell_type": "code",
      "source": [
        "neuronNum = (5)\n",
        "nN = np.insert(nN, 1, neuronNum)\n"
      ],
      "metadata": {
        "id": "kM1IAt_U3FRx"
      },
      "execution_count": null,
      "outputs": []
    },
    {
      "cell_type": "code",
      "source": [
        "nN"
      ],
      "metadata": {
        "colab": {
          "base_uri": "https://localhost:8080/"
        },
        "id": "wf9c3p8w4iE3",
        "outputId": "aa4945f5-a4e5-4c2c-e2fd-945782dc19a4"
      },
      "execution_count": null,
      "outputs": [
        {
          "output_type": "execute_result",
          "data": {
            "text/plain": [
              "array([2, 5, 2, 2, 2, 2, 2])"
            ]
          },
          "metadata": {},
          "execution_count": 17
        }
      ]
    }
  ],
  "metadata": {
    "colab": {
      "provenance": []
    },
    "kernelspec": {
      "display_name": "Python 3",
      "name": "python3"
    },
    "language_info": {
      "name": "python"
    }
  },
  "nbformat": 4,
  "nbformat_minor": 0
}