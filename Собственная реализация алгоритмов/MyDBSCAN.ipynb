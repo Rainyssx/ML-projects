{
  "nbformat": 4,
  "nbformat_minor": 0,
  "metadata": {
    "colab": {
      "provenance": []
    },
    "kernelspec": {
      "name": "python3",
      "display_name": "Python 3"
    },
    "language_info": {
      "name": "python"
    }
  },
  "cells": [
    {
      "cell_type": "code",
      "execution_count": null,
      "metadata": {
        "id": "kW8UiWoWwTVa"
      },
      "outputs": [],
      "source": [
        "import pygame\n",
        "import numpy\n",
        "import matplotlib.pyplot as plt\n",
        "import numpy as np\n",
        "from sklearn.cluster import DBSCAN\n",
        "import matplotlib.animation as animation"
      ]
    },
    {
      "cell_type": "code",
      "source": [
        "class Point:\n",
        "    def __init__(self,x,y):\n",
        "        self.x = x\n",
        "        self.y = y\n",
        "    def distance(self,other_point):\n",
        "        return np.sqrt((self.x-other_point.x)**2+(self.y-other_point.y)**2)\n",
        "    def add_near_points(point):\n",
        "        new_points = []\n",
        "        for i in range(np.random.randint(1,5)):\n",
        "            new_points.append(Point(point.x+np.random.randint(-20,20),point.y+np.random.randint(-20,20)))\n",
        "        return new_points"
      ],
      "metadata": {
        "id": "6JsaQEonwhoJ"
      },
      "execution_count": null,
      "outputs": []
    },
    {
      "cell_type": "code",
      "source": [
        "class dbscan:\n",
        "    def __init__(self,data, epsilon = 10, min_neighbours = 5):\n",
        "        self.data = np.array(data)\n",
        "        self.epsilon = epsilon\n",
        "        self.min_neighbours = min_neighbours\n",
        "        self.targets = np.zeros((self.data.shape[0]))\n",
        "        self.neighbours = self.get_neighbours()\n",
        "        \"\"\"fig, ax = plt.subplots()\n",
        "\n",
        "\n",
        "ani = animation.FuncAnimation(fig, animate, repeat=True,\n",
        "                                    frames=len(x) - 1, interval=50)\n",
        "\n",
        "    def animate(self):\n",
        "        ax.scatter(self.data[:,0]).self.data[:,1],c = self.targets)\n",
        "        return ax\"\"\"\n",
        "\n",
        "    def get_neighbours(self):\n",
        "        distances = [0] * self.data.shape[0]\n",
        "        for i in range(self.data.shape[0]):\n",
        "            distances[i] = np.linalg.norm(self.data - self.data[i],axis = 1)\n",
        "        distances = np.array(distances)\n",
        "      #distances = np.where([distances < self.epsilon], distances, 0)\n",
        "        distances1 = np.argwhere((0 < distances) & (distances < self.epsilon))\n",
        "        neighbours = []\n",
        "        for i in range(self.data.shape[0]):\n",
        "            neighbours.append([])\n",
        "        for item in distances1:\n",
        "            neighbours[item[0]].append(item[1])\n",
        "        return neighbours\n",
        "\n",
        "    def fit_predict(self):\n",
        "        # 0 no cluster\n",
        "        #-1 boundary\n",
        "        #-2 outlier\n",
        "        claster_number = 0\n",
        "        have_kernel_points = False\n",
        "        spisok_points = []\n",
        "        spisok_boundaries = []\n",
        "        while (np.count_nonzero(self.targets == 0) > 0 or np.count_nonzero(self.targets == -1) > 0):\n",
        "            a = np.where((self.targets == 0))[0]\n",
        "            if a.any():\n",
        "                first_not_null = np.random.choice(a,1)[0]\n",
        "            if len(spisok_points) == 0:\n",
        "                if have_kernel_points:\n",
        "                    for item in spisok_boundaries:\n",
        "                        self.targets[item] = claster_number\n",
        "                else:\n",
        "                    for item in spisok_boundaries:\n",
        "                        self.targets[item] = -2\n",
        "                spisok_boundaries = []\n",
        "                have_kernel_points = False\n",
        "                claster_number += 1\n",
        "            if len(spisok_points) > 0:\n",
        "                first_not_null = spisok_points[0]\n",
        "                spisok_points = spisok_points[1:]\n",
        "            if self.targets[first_not_null] != 0:\n",
        "                continue\n",
        "            elif 0 < len(self.neighbours[first_not_null])< self.min_neighbours:\n",
        "                self.targets[first_not_null] = -1\n",
        "                spisok_boundaries.append(first_not_null)\n",
        "                continue\n",
        "            elif len(self.neighbours[first_not_null])  == 0:\n",
        "                self.targets[first_not_null] = -2\n",
        "                continue\n",
        "            if len(self.neighbours[first_not_null] )>= self.min_neighbours:\n",
        "                self.targets[first_not_null] = claster_number\n",
        "                have_kernel_points = True\n",
        "                for item in self.neighbours[first_not_null]:\n",
        "                    if item not in spisok_points:\n",
        "                        spisok_points.append(item)\n",
        "\n",
        "        return self.targets\n"
      ],
      "metadata": {
        "id": "TFeoSsO7wd49"
      },
      "execution_count": null,
      "outputs": []
    },
    {
      "cell_type": "code",
      "source": [
        "def main():\n",
        "    pygame.init()\n",
        "    points = []\n",
        "    r = 3\n",
        "    screen = pygame.display.set_mode((600,600))\n",
        "    screen.fill(\"white\")\n",
        "    is_pressed = False\n",
        "    pygame.display.update()\n",
        "    while(True):\n",
        "        for event in pygame.event.get():\n",
        "            if event.type == pygame.QUIT:\n",
        "                pygame.quit()\n",
        "                exit()\n",
        "            if event.type == pygame.KEYDOWN:\n",
        "                if event.key == pygame.K_SPACE:\n",
        "                    new_points = np.array([(point.x, point.y) for point in points])\n",
        "                    figure,(ax1,ax2) = plt.subplots(2)\n",
        "                    DB = DBSCAN( min_samples=4, eps=20)\n",
        "                    db = dbscan( data = new_points,min_neighbours = 4, epsilon = 20)\n",
        "                    labels = db.fit_predict()\n",
        "                    print(labels)\n",
        "                    labels1 = DB.fit_predict(X = new_points)\n",
        "                    ax1.scatter(new_points[:, 0], new_points[:, 1], c = labels)\n",
        "                    ax2.scatter(new_points[:, 0], new_points[:, 1], c=labels1)\n",
        "                    plt.show()\n",
        "            if event.type == pygame.MOUSEBUTTONDOWN:\n",
        "                if event.button == 1:\n",
        "                    is_pressed = True\n",
        "            if event.type == pygame.MOUSEBUTTONUP:\n",
        "                if event.button == 1:\n",
        "                    is_pressed = False\n",
        "            if event.type == pygame.MOUSEMOTION and is_pressed:\n",
        "                pos = event.pos\n",
        "                p = Point(*pos)\n",
        "                if len(points) == 0:\n",
        "                    points.append(p)\n",
        "                    pts  = Point.add_near_points(p)\n",
        "                    points = points + pts\n",
        "                    pygame.draw.circle(screen, \"black\", pos, r)\n",
        "                    for point in pts:\n",
        "                        pygame.draw.circle(screen, \"black\", (point.x,point.y), r)\n",
        "                elif p.distance(points[-1])>20:\n",
        "                    p = Point(*pos)\n",
        "                    points.append(p)\n",
        "                    pts = Point.add_near_points(p)\n",
        "                    points = points + pts\n",
        "                    pygame.draw.circle(screen, \"black\", pos, r)\n",
        "                    for point in pts:\n",
        "                        pygame.draw.circle(screen, \"black\", (point.x, point.y), r)\n",
        "\n",
        "                pygame.display.update()\n"
      ],
      "metadata": {
        "id": "L7vjVWzCwjT6"
      },
      "execution_count": null,
      "outputs": []
    },
    {
      "cell_type": "code",
      "source": [
        "main()\n"
      ],
      "metadata": {
        "id": "WikRjacxwvx9"
      },
      "execution_count": null,
      "outputs": []
    }
  ]
}