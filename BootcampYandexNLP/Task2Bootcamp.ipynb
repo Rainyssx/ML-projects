{
  "nbformat": 4,
  "nbformat_minor": 0,
  "metadata": {
    "colab": {
      "provenance": []
    },
    "kernelspec": {
      "name": "python3",
      "display_name": "Python 3"
    },
    "language_info": {
      "name": "python"
    }
  },
  "cells": [
    {
      "cell_type": "markdown",
      "source": [
        "# Дан набор текстовых документов, необходимо найти наиболее частотные слова среди всех документов (>2 повторений, не являются словоформами друг друга), исключить из этого списка служебные части речи и посчитать количество их встречающихся словоформ во всех документах."
      ],
      "metadata": {
        "id": "Wng7eQl2q0BG"
      }
    },
    {
      "cell_type": "code",
      "execution_count": null,
      "metadata": {
        "colab": {
          "base_uri": "https://localhost:8080/"
        },
        "id": "9e5E7JCdhdXh",
        "outputId": "30ceb031-a4f7-4974-c0eb-cb19b370c953"
      },
      "outputs": [
        {
          "output_type": "stream",
          "name": "stdout",
          "text": [
            "Collecting pymorphy3\n",
            "  Downloading pymorphy3-2.0.3-py3-none-any.whl.metadata (1.9 kB)\n",
            "Requirement already satisfied: nltk in /usr/local/lib/python3.11/dist-packages (3.9.1)\n",
            "Collecting dawg2-python>=0.8.0 (from pymorphy3)\n",
            "  Downloading dawg2_python-0.9.0-py3-none-any.whl.metadata (7.5 kB)\n",
            "Collecting pymorphy3-dicts-ru (from pymorphy3)\n",
            "  Downloading pymorphy3_dicts_ru-2.4.417150.4580142-py2.py3-none-any.whl.metadata (2.0 kB)\n",
            "Requirement already satisfied: click in /usr/local/lib/python3.11/dist-packages (from nltk) (8.2.0)\n",
            "Requirement already satisfied: joblib in /usr/local/lib/python3.11/dist-packages (from nltk) (1.5.0)\n",
            "Requirement already satisfied: regex>=2021.8.3 in /usr/local/lib/python3.11/dist-packages (from nltk) (2024.11.6)\n",
            "Requirement already satisfied: tqdm in /usr/local/lib/python3.11/dist-packages (from nltk) (4.67.1)\n",
            "Downloading pymorphy3-2.0.3-py3-none-any.whl (53 kB)\n",
            "\u001b[2K   \u001b[90m━━━━━━━━━━━━━━━━━━━━━━━━━━━━━━━━━━━━━━━━\u001b[0m \u001b[32m53.8/53.8 kB\u001b[0m \u001b[31m1.7 MB/s\u001b[0m eta \u001b[36m0:00:00\u001b[0m\n",
            "\u001b[?25hDownloading dawg2_python-0.9.0-py3-none-any.whl (9.3 kB)\n",
            "Downloading pymorphy3_dicts_ru-2.4.417150.4580142-py2.py3-none-any.whl (8.4 MB)\n",
            "\u001b[2K   \u001b[90m━━━━━━━━━━━━━━━━━━━━━━━━━━━━━━━━━━━━━━━━\u001b[0m \u001b[32m8.4/8.4 MB\u001b[0m \u001b[31m49.6 MB/s\u001b[0m eta \u001b[36m0:00:00\u001b[0m\n",
            "\u001b[?25hInstalling collected packages: pymorphy3-dicts-ru, dawg2-python, pymorphy3\n",
            "Successfully installed dawg2-python-0.9.0 pymorphy3-2.0.3 pymorphy3-dicts-ru-2.4.417150.4580142\n"
          ]
        }
      ],
      "source": [
        "pip install pymorphy3 nltk"
      ]
    },
    {
      "cell_type": "code",
      "source": [
        "from collections import defaultdict\n",
        "import pymorphy3\n",
        "from nltk.corpus import stopwords\n",
        "import nltk\n"
      ],
      "metadata": {
        "id": "YVOZiYdZhixe"
      },
      "execution_count": null,
      "outputs": []
    },
    {
      "cell_type": "code",
      "source": [
        "documents = {1: 'В случаях, предусмотренных законом, права, закрепляющие принадлежность объекта гражданских прав определенному лицу, ограничения таких прав и обременения имущества (права на имущество) подлежат государственной регистрации. Государственная регистрация прав на имущество осуществляется уполномоченным в соответствии с законом органом на основе принципов проверки законности оснований регистрации, публичности и достоверности государственного реестра. В государственном реестре должны быть указаны данные, позволяющие определенно установить объект, на который устанавливается право, управомоченное лицо, содержание права, основание его возникновения. Права на имущество, подлежащие государственной регистрации, возникают, изменяются и прекращаются с момента внесения соответствующей записи в государственный реестр, если иное не установлено законом. В случаях, предусмотренных законом или соглашением сторон, сделка, влекущая возникновение, изменение или прекращение прав на имущество, которые подлежат государственной регистрации, должна быть нотариально удостоверена. Запись в государственный реестр вносится при наличии заявлений об этом всех лиц, совершивших сделку, если иное не установлено законом. Если сделка совершена в нотариальной форме, запись в государственный реестр может быть внесена по заявлению любой стороны сделки, в том числе через нотариуса.',\n",
        "\n",
        "2: 'Гражданин отвечает по своим обязательствам всем принадлежащим ему имуществом, за исключением имущества, на которое в соответствии с законом не может быть обращено взыскание. Перечень имущества граждан, на которое не может быть обращено взыскание, устанавливается гражданским процессуальным законодательством. В п. 55 указанного Постановления Пленума Верховного Суда РФ разъясняется, что при обращении взыскания на имущество должника - индивидуального предпринимателя по требованиям исполнительного документа, не связанным с осуществлением предпринимательской деятельности, применяются правила очередности, предусмотренные статьей 69 Закона об исполнительном производстве. Вместе с тем при обращении судебным приставом-исполнителем взыскания на имущество должника - индивидуального предпринимателя по требованиям, связанным с его предпринимательской деятельностью (пункт 3 статьи 23 ГК РФ), необходимо соблюдать не только очередность, установленную статьей 69 Закона об исполнительном производстве, но и иные положения законов, определяющих очередность взыскания с учетом такого статуса должника, в частности нормы статьи 94 названного Закона.',\n",
        "\n",
        "3: 'Составной частью особого правового режима недвижимого имущества является обязательная государственная регистрация прав на него (перехода прав на него, сделок с ним и обременений недвижимого имущества). Целью такой регистрации является установление прочной системы оборота недвижимости. Мировой опыт убедительно показывает, что для защиты прав частных собственников на недвижимость необходимо создать формальную регистрационную систему, которая гарантировала бы надежность и гласность гражданского оборота, была бы доступна для всех участников гражданских отношений и содержала бы объективную информацию о недвижимости. Государственная регистрация прав на недвижимое имущество и сделок с ним представляет собой элемент публично-правового регулирования в частноправовых отношениях. Однако первое выполняет вторичную роль по отношению к последним. Цель такого регулирования заключается в том, чтобы обеспечить стабильность в гражданских отношениях. Требование об отражении изменений вещно-правового положения участников в Едином государственном реестре прав на недвижимое имущество является реализацией принципа публичности в обороте недвижимости. Слово \"государственная\" означает, что регистрация должна осуществляться специально уполномоченными федеральными государственными органами. Таким органом в настоящее время является Федеральная служба государственной регистрации, кадастра и картографии (Росреестр).'}\n"
      ],
      "metadata": {
        "id": "09AONevmiOf_"
      },
      "execution_count": null,
      "outputs": []
    },
    {
      "cell_type": "code",
      "source": [
        "\n",
        "nltk.download('stopwords')\n",
        "\n",
        "\n",
        "morph = pymorphy3.MorphAnalyzer()\n",
        "russian_stopwords = stopwords.words('russian')\n",
        "\n",
        "\n",
        "def preprocess_text(text):\n",
        "    words = text.lower().split()\n",
        "    normalized_words = []\n",
        "    for word in words:\n",
        "        # Удаляем пунктуацию и приводим к нормальной форме\n",
        "        parsed = morph.parse(word)[0]\n",
        "        if parsed.tag.POS not in ['PREP', 'CONJ', 'PRCL', 'INTJ']:  # Исключаем служебные части речи\n",
        "            normalized_word = parsed.normal_form\n",
        "            if normalized_word not in russian_stopwords and len(normalized_word) > 2:\n",
        "                normalized_words.append(normalized_word)\n",
        "    return normalized_words\n",
        "\n",
        "# Сбор всех слов и их словоформ\n",
        "word_forms = defaultdict(list)\n",
        "word_counts = defaultdict(int)\n",
        "\n",
        "for doc in documents:\n",
        "    words = preprocess_text(documents[doc])\n",
        "    for word in words:\n",
        "        word_counts[word] += 1\n",
        "        word_forms[word].append(word)\n",
        "\n",
        "# Фильтрация: оставляем слова с >2 повторениями\n",
        "filtered_words = {word: count for word, count in word_counts.items() if count > 2}\n",
        "\n",
        "# Подсчёт словоформ для каждого частотного слова\n",
        "result = {}\n",
        "for word in filtered_words:\n",
        "    forms = set(word_forms[word])  # Уникальные словоформы\n",
        "    result[word] = {\n",
        "        'total_occurrences': word_counts[word],\n",
        "        'unique_forms': len(forms),\n",
        "        'forms': list(forms)\n",
        "    }\n",
        "\n",
        "print(result)"
      ],
      "metadata": {
        "colab": {
          "base_uri": "https://localhost:8080/"
        },
        "id": "PNPaM1n_hxkb",
        "outputId": "d21386f2-e472-43b7-8da5-7b014c2aba25"
      },
      "execution_count": null,
      "outputs": [
        {
          "output_type": "stream",
          "name": "stderr",
          "text": [
            "[nltk_data] Downloading package stopwords to /root/nltk_data...\n",
            "[nltk_data]   Package stopwords is already up-to-date!\n"
          ]
        },
        {
          "output_type": "stream",
          "name": "stdout",
          "text": [
            "{'гражданский': {'total_occurrences': 5, 'unique_forms': 1, 'forms': ['гражданский']}, 'право': {'total_occurrences': 10, 'unique_forms': 1, 'forms': ['право']}, 'имущество': {'total_occurrences': 8, 'unique_forms': 1, 'forms': ['имущество']}, 'государственный': {'total_occurrences': 14, 'unique_forms': 1, 'forms': ['государственный']}, 'регистрация': {'total_occurrences': 5, 'unique_forms': 1, 'forms': ['регистрация']}, 'закон': {'total_occurrences': 5, 'unique_forms': 1, 'forms': ['закон']}, 'регистрации,': {'total_occurrences': 4, 'unique_forms': 1, 'forms': ['регистрации,']}, 'реестр': {'total_occurrences': 4, 'unique_forms': 1, 'forms': ['реестр']}, 'должный': {'total_occurrences': 3, 'unique_forms': 1, 'forms': ['должный']}, 'установить': {'total_occurrences': 3, 'unique_forms': 1, 'forms': ['установить']}, 'который': {'total_occurrences': 5, 'unique_forms': 1, 'forms': ['который']}, 'запись': {'total_occurrences': 3, 'unique_forms': 1, 'forms': ['запись']}, 'иной': {'total_occurrences': 3, 'unique_forms': 1, 'forms': ['иной']}, 'весь': {'total_occurrences': 3, 'unique_forms': 1, 'forms': ['весь']}, 'сделка': {'total_occurrences': 3, 'unique_forms': 1, 'forms': ['сделка']}, 'мочь': {'total_occurrences': 3, 'unique_forms': 1, 'forms': ['мочь']}, 'взыскание': {'total_occurrences': 3, 'unique_forms': 1, 'forms': ['взыскание']}, 'исполнительный': {'total_occurrences': 3, 'unique_forms': 1, 'forms': ['исполнительный']}, 'статья': {'total_occurrences': 4, 'unique_forms': 1, 'forms': ['статья']}, 'недвижимый': {'total_occurrences': 4, 'unique_forms': 1, 'forms': ['недвижимый']}, 'являться': {'total_occurrences': 4, 'unique_forms': 1, 'forms': ['являться']}, 'недвижимости.': {'total_occurrences': 3, 'unique_forms': 1, 'forms': ['недвижимости.']}}\n"
          ]
        }
      ]
    },
    {
      "cell_type": "code",
      "source": [
        "tot = 0\n",
        "for value in result.values():\n",
        "  tot += value['total_occurrences']\n",
        "print(tot)\n"
      ],
      "metadata": {
        "colab": {
          "base_uri": "https://localhost:8080/"
        },
        "id": "AOxYZEOZio2p",
        "outputId": "d1d1aca2-86db-416b-f1ca-9fb7c92854b5"
      },
      "execution_count": null,
      "outputs": [
        {
          "output_type": "stream",
          "name": "stdout",
          "text": [
            "102\n"
          ]
        }
      ]
    }
  ]
}